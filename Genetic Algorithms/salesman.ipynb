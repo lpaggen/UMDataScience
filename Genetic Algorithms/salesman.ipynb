{
 "cells": [
  {
   "cell_type": "code",
   "execution_count": 1,
   "metadata": {},
   "outputs": [
    {
     "name": "stdout",
     "output_type": "stream",
     "text": [
      "Intel MKL WARNING: Support of Intel(R) Streaming SIMD Extensions 4.2 (Intel(R) SSE4.2) enabled only processors has been deprecated. Intel oneAPI Math Kernel Library 2025.0 will require Intel(R) Advanced Vector Extensions (Intel(R) AVX) instructions.\n",
      "Intel MKL WARNING: Support of Intel(R) Streaming SIMD Extensions 4.2 (Intel(R) SSE4.2) enabled only processors has been deprecated. Intel oneAPI Math Kernel Library 2025.0 will require Intel(R) Advanced Vector Extensions (Intel(R) AVX) instructions.\n"
     ]
    }
   ],
   "source": [
    "import numpy as np"
   ]
  },
  {
   "cell_type": "markdown",
   "metadata": {},
   "source": [
    "INSPIRATION FROM THE FOLLOWING BLOG \n",
    "\n",
    "https://medium.com/aimonks/traveling-salesman-problem-tsp-using-genetic-algorithm-fea640713758\n",
    "\n",
    "https://stackoverflow.com/questions/50489450/genetic-algorithm-ordered-crossover-in-python\n",
    "\n",
    "https://mat.uab.cat/~alseda/MasterOpt/GeneticOperations.pdf\n",
    "\n",
    "We tried implementing some sort of ordered crossover, the results are not great... \n",
    "\n",
    "-> of course, ChatGPT did come in handy for when we had small mistakes in the code"
   ]
  },
  {
   "cell_type": "code",
   "execution_count": 2,
   "metadata": {},
   "outputs": [],
   "source": [
    "from random import randrange, random\n",
    "from random import shuffle"
   ]
  },
  {
   "cell_type": "code",
   "execution_count": 3,
   "metadata": {},
   "outputs": [
    {
     "data": {
      "text/plain": [
       "10"
      ]
     },
     "execution_count": 3,
     "metadata": {},
     "output_type": "execute_result"
    }
   ],
   "source": [
    "# set up country list\n",
    "\n",
    "cities = [\n",
    "    \"Paris\", \"Berlin\", \"London\", \"Madrid\", \"Rome\", \"Amsterdam\", \"Lisbon\", \"Prague\", \"Vienna\", \"Stockholm\",\n",
    "]\n",
    "\n",
    "len(cities)"
   ]
  },
  {
   "cell_type": "code",
   "execution_count": 83,
   "metadata": {},
   "outputs": [
    {
     "name": "stdout",
     "output_type": "stream",
     "text": [
      "10\n"
     ]
    },
    {
     "data": {
      "text/plain": [
       "{'Paris': (3, 8),\n",
       " 'Berlin': (6, 6),\n",
       " 'London': (11, 15),\n",
       " 'Madrid': (13, 15),\n",
       " 'Rome': (6, 14),\n",
       " 'Amsterdam': (0, 8),\n",
       " 'Lisbon': (18, 5),\n",
       " 'Prague': (19, 18),\n",
       " 'Vienna': (6, 1),\n",
       " 'Stockholm': (9, 3)}"
      ]
     },
     "execution_count": 83,
     "metadata": {},
     "output_type": "execute_result"
    }
   ],
   "source": [
    "def determine_coords(city_list, max_distance): # this just takes cities and assigns random coordinates to them, could also use real ones\n",
    "    country_coords = {}\n",
    "    for city in city_list:\n",
    "        while len(country_coords) < len(city_list):\n",
    "            coords = (randrange(0, max_distance), randrange(0, max_distance))\n",
    "            if coords not in country_coords.values():\n",
    "                country_coords[city] = coords\n",
    "                break\n",
    "\n",
    "    return country_coords\n",
    "\n",
    "coords = determine_coords(cities, 20)\n",
    "print(len(coords))\n",
    "\n",
    "coords"
   ]
  },
  {
   "cell_type": "code",
   "execution_count": 4,
   "metadata": {},
   "outputs": [],
   "source": [
    "coord_map_non_random = {\n",
    "    'Paris': (48.8566, 2.3522),\n",
    "    'Berlin': (52.5200, 13.4050),\n",
    "    'London': (51.5074, -0.1278),\n",
    "    'Madrid': (40.4168, -3.7038),\n",
    "    'Rome': (41.9028, 12.4964),\n",
    "    'Amsterdam': (52.3676, 4.9041),\n",
    "    'Lisbon': (38.7223, -9.1393),\n",
    "    'Prague': (50.0755, 14.4378),\n",
    "    'Vienna': (48.2082, 16.3738),\n",
    "    'Stockholm': (59.3293, 18.0686)\n",
    "}"
   ]
  },
  {
   "cell_type": "code",
   "execution_count": 16,
   "metadata": {},
   "outputs": [],
   "source": [
    "from math import cos, sin"
   ]
  },
  {
   "cell_type": "code",
   "execution_count": 17,
   "metadata": {},
   "outputs": [],
   "source": [
    "coords_unit_circle = {\n",
    "                     'Paris' : (cos(0), sin(0)),\n",
    "                    'Berlin' : (cos(36), sin(36)),\n",
    "                    'London' : (cos(72), sin(72)),\n",
    "                    'Madrid' : (cos(108), sin(108)),\n",
    "                    'Rome' : (cos(144), sin(144)),\n",
    "                    'Amsterdam' : (cos(180), sin(180)),\n",
    "                    'Lisbon' : (cos(216), sin(216)),\n",
    "                    'Prague' : (cos(252), sin(252)),\n",
    "                    'Vienna' : (cos(288), sin(288)),\n",
    "                    'Stockholm' : (cos(324), sin(324)),\n",
    "                     }"
   ]
  },
  {
   "cell_type": "code",
   "execution_count": 5,
   "metadata": {},
   "outputs": [],
   "source": [
    "# out of above cities, select N cities to construct initial population\n",
    "\n",
    "def initial_cities(n_sol, n_countries, country_list):\n",
    "    selected_cities = []  # list of n countries to permute\n",
    "    while len(selected_cities) < n_sol:\n",
    "        sublist_cities = []  # list of n countries to permute\n",
    "        while len(sublist_cities) < n_countries:\n",
    "            rand = randrange(0, len(country_list))\n",
    "            selected_city = country_list[rand]\n",
    "            if selected_city not in sublist_cities:\n",
    "                sublist_cities.append(selected_city)\n",
    "        if len(set(sublist_cities)) == n_countries:  # Ensure unique cities\n",
    "            selected_cities.append(sublist_cities)\n",
    "\n",
    "    return selected_cities\n",
    "\n",
    "cities_selection = initial_cities(100, 10, cities)"
   ]
  },
  {
   "cell_type": "code",
   "execution_count": 18,
   "metadata": {},
   "outputs": [
    {
     "ename": "NameError",
     "evalue": "name 'coords' is not defined",
     "output_type": "error",
     "traceback": [
      "\u001b[0;31m---------------------------------------------------------------------------\u001b[0m",
      "\u001b[0;31mNameError\u001b[0m                                 Traceback (most recent call last)",
      "Cell \u001b[0;32mIn[18], line 10\u001b[0m\n\u001b[1;32m      6\u001b[0m         result_dict_list\u001b[38;5;241m.\u001b[39mappend(subarray_dict)\n\u001b[1;32m      8\u001b[0m     \u001b[38;5;28;01mreturn\u001b[39;00m result_dict_list\n\u001b[0;32m---> 10\u001b[0m solutions_coords \u001b[38;5;241m=\u001b[39m construct_pop_coords(cities_selection, \u001b[43mcoords\u001b[49m)\n\u001b[1;32m     12\u001b[0m solutions_coords[\u001b[38;5;241m0\u001b[39m]\n",
      "\u001b[0;31mNameError\u001b[0m: name 'coords' is not defined"
     ]
    }
   ],
   "source": [
    "def construct_pop_coords(solution_arr, coord_map):\n",
    "    result_dict_list = []\n",
    "\n",
    "    for subarray in solution_arr:\n",
    "        subarray_dict = {city: coord_map.get(city, None) for city in subarray}\n",
    "        result_dict_list.append(subarray_dict)\n",
    "\n",
    "    return result_dict_list\n",
    "\n",
    "solutions_coords = construct_pop_coords(cities_selection, coords)\n",
    "\n",
    "solutions_coords[0]"
   ]
  },
  {
   "cell_type": "code",
   "execution_count": 19,
   "metadata": {},
   "outputs": [],
   "source": [
    "from math import dist"
   ]
  },
  {
   "cell_type": "code",
   "execution_count": 20,
   "metadata": {},
   "outputs": [],
   "source": [
    "# in this case, the score is just the total distance traveled inverse\n",
    "\n",
    "def calc_total_dist(sol_coords): # this just calculates distances\n",
    "    max_range = len(sol_coords[0]) - 1 # prevents from arriving at index 10, which does not exist\n",
    "    total_dist_per_sol = []\n",
    "    for sol_coord in sol_coords:\n",
    "        solution_total_dist = 0\n",
    "        coord_values = list(sol_coord.values())\n",
    "        for i in range(max_range):\n",
    "            city_1_coords = coord_values[i]\n",
    "            city_2_coords = coord_values[i + 1]\n",
    "\n",
    "            distance = dist(city_1_coords, city_2_coords)\n",
    "            solution_total_dist += distance\n",
    "            \n",
    "        end_start_dist = dist(coord_values[max_range], coord_values[0]) # calculates distance from last city to first city\n",
    "        solution_total_dist += end_start_dist\n",
    "\n",
    "        total_dist_per_sol.append(solution_total_dist)\n",
    "    \n",
    "    return total_dist_per_sol"
   ]
  },
  {
   "cell_type": "code",
   "execution_count": 21,
   "metadata": {},
   "outputs": [],
   "source": [
    "def assign_weights(distance_sum_list): # just creates some scores, bigger distances have lower scores\n",
    "    score_list = []\n",
    "    for distance_sum in distance_sum_list:\n",
    "        score_list.append(1 / (1 + distance_sum))\n",
    "\n",
    "    return score_list"
   ]
  },
  {
   "cell_type": "code",
   "execution_count": 22,
   "metadata": {},
   "outputs": [],
   "source": [
    "def probability_wheel(solutions, weights_list):\n",
    "    total_score = sum(weights_list)\n",
    "    probabilities = [x / total_score for x in weights_list] # gets proportion of each solution based on score (adds to 1)\n",
    "    selection = []\n",
    "    for i in range(len(solutions)):\n",
    "        rand = random() # number between 0 and 1\n",
    "        prob_sum = 0 # cumulative probability\n",
    "        for idx, prob in enumerate(probabilities):\n",
    "            prob_sum += prob # adds up to total\n",
    "            if prob_sum > rand: # cutoff is exceeded\n",
    "                selection.append(solutions[idx])\n",
    "                break\n",
    "\n",
    "    return selection"
   ]
  },
  {
   "cell_type": "code",
   "execution_count": 23,
   "metadata": {},
   "outputs": [],
   "source": [
    "# this one is quite lengthy, we are just mediocre at implementing ORDERED crossover (not regular crossover)\n",
    "# what it does is it does a crossover ensuring there are never any duplicated in the newly created children\n",
    "\n",
    "def crossover(solutions, cross_rate): # TO DO : IMPLEMENT CROSSOVER RATE\n",
    "    parents = [(solutions[i], solutions[i + 1]) for i in range(0, len(solutions), 2)]\n",
    "    cross_solutions = [] # store the newly crossovered solutions\n",
    "    idxx = len(solutions[0])\n",
    "    for parent1, parent2 in parents:\n",
    "        sub_cross_solutions_c1 = {}\n",
    "        sub_cross_solutions_c2 = {}\n",
    "\n",
    "        p1_city = [city for city in parent1.keys()]\n",
    "        p2_city = [city for city in parent2.keys()]\n",
    "        p1_coords = [coord for coord in parent1.values()]\n",
    "        p2_coords = [coord for coord in parent2.values()]\n",
    "\n",
    "        p1_idx_list = [i for i in range(idxx)]\n",
    "        p2_idx_list = [i for i in range(idxx)]\n",
    "\n",
    "        shuffle(p1_idx_list)\n",
    "        shuffle(p2_idx_list)\n",
    "\n",
    "        start_point_idx = randrange(2, idxx - 3)\n",
    "        end_point_idx = randrange(start_point_idx + 1, idxx - 2)\n",
    "\n",
    "        c1_proto_init = [-1 for i in range(idxx)]\n",
    "        c2_proto_init = [-1 for i in range(idxx)]\n",
    "\n",
    "        c1_proto = c1_proto_init[:start_point_idx] + p1_idx_list[start_point_idx:end_point_idx] + c1_proto_init[end_point_idx:]\n",
    "        c2_proto = c2_proto_init[:start_point_idx] + p2_idx_list[start_point_idx:end_point_idx] + c2_proto_init[end_point_idx:]\n",
    "\n",
    "        for index, element in enumerate(c1_proto):\n",
    "            if element == -1:\n",
    "                for i in p2_idx_list:\n",
    "                    if i not in c1_proto:\n",
    "                        c1_proto[index] = i\n",
    "\n",
    "        for index2, element2 in enumerate(c2_proto):\n",
    "            if element2 == -1:\n",
    "                for j in p1_idx_list:\n",
    "                    if j not in c2_proto:\n",
    "                        c2_proto[index2] = j\n",
    "\n",
    "        for i in c1_proto:\n",
    "            sub_cross_solutions_c1[p1_city[i]] = p1_coords[i]\n",
    "\n",
    "        for j in c2_proto:\n",
    "            sub_cross_solutions_c2[p2_city[j]] = p2_coords[j]\n",
    "\n",
    "        cross_solutions.append(sub_cross_solutions_c1)\n",
    "        cross_solutions.append(sub_cross_solutions_c2)\n",
    "\n",
    "    return cross_solutions"
   ]
  },
  {
   "cell_type": "code",
   "execution_count": 24,
   "metadata": {},
   "outputs": [],
   "source": [
    "# this just interchanges some elements with a set rate\n",
    "\n",
    "def mutate(solutions, mutate_rate):\n",
    "    for idx, solution in enumerate(solutions):\n",
    "        cities = [city for city in solution.keys()]\n",
    "        coords = [coord for coord in solution.values()]\n",
    "        for i, current_city in enumerate(cities):\n",
    "            rand = random()\n",
    "            rand_idx_2 = randrange(0, len(cities))\n",
    "            if rand < mutate_rate:\n",
    "                cities[i], cities[rand_idx_2] = cities[rand_idx_2], cities[i]\n",
    "                coords[i], coords[rand_idx_2] = coords[rand_idx_2], coords[i]\n",
    "\n",
    "        solutions[idx] = dict(zip(cities, coords))\n",
    "\n",
    "    return solutions"
   ]
  },
  {
   "cell_type": "code",
   "execution_count": 25,
   "metadata": {},
   "outputs": [],
   "source": [
    "# prevents the algorithm from regressing in terms of score, this forces it to converge\n",
    "\n",
    "def regressed_safeguard(prev_solutions, new_solutions):\n",
    "    prev_scores = assign_weights(calc_total_dist(prev_solutions))\n",
    "    new_scores = assign_weights(calc_total_dist(new_solutions))\n",
    "    prev_best_score = max(prev_scores)\n",
    "    new_best_score = max(new_scores)\n",
    "    new_worst_score_idx = np.argmin(new_best_score) # index of worst solution in new solutions\n",
    "    prev_best_sol = prev_solutions[np.argmax(prev_scores)]\n",
    "    \n",
    "    if new_best_score > prev_best_score:\n",
    "        new_solutions[new_worst_score_idx] = prev_best_sol\n",
    "        return new_solutions\n",
    "        \n",
    "    else:\n",
    "        return prev_solutions"
   ]
  },
  {
   "cell_type": "code",
   "execution_count": 27,
   "metadata": {},
   "outputs": [],
   "source": [
    "import seaborn as sns\n",
    "import matplotlib.pyplot as plt"
   ]
  },
  {
   "cell_type": "code",
   "execution_count": 136,
   "metadata": {},
   "outputs": [
    {
     "name": "stdout",
     "output_type": "stream",
     "text": [
      "shortest path found -> {'London': (0.30901699437494745, 0.9510565162951535), 'Madrid': (-0.30901699437494734, 0.9510565162951536), 'Rome': (-0.8090169943749473, 0.5877852522924732), 'Amsterdam': (-1.0, 1.2246467991473532e-16), 'Lisbon': (-0.8090169943749475, -0.587785252292473), 'Prague': (-0.30901699437494756, -0.9510565162951535), 'Vienna': (0.30901699437494723, -0.9510565162951536), 'Stockholm': (0.8090169943749473, -0.5877852522924732), 'Paris': (1, 0), 'Berlin': (0.8090169943749475, 0.5877852522924731)}\n",
      "distance traveled - > 6.180339887498949\n"
     ]
    },
    {
     "data": {
      "image/png": "[encoded data removed]",
      "text/plain": [
       "<Figure size 800x800 with 1 Axes>"
      ]
     },
     "metadata": {},
     "output_type": "display_data"
    }
   ],
   "source": [
    "cities = [\n",
    "    \"Paris\", \"Berlin\", \"London\", \"Madrid\", \"Rome\", \"Amsterdam\", \"Lisbon\", \"Prague\", \"Vienna\", \"Stockholm\",\n",
    "]\n",
    "\n",
    "def genetic_algorithm(cities, max_distance, n_sol, n_cities, n_iterations, cross_rate, mutate_rate, verbose = False, random = False, unit_circle = False):\n",
    "    if random:\n",
    "        coords = determine_coords(cities, max_distance)\n",
    "        cities_selection = initial_cities(n_sol, n_cities, cities)\n",
    "        solutions_coords = construct_pop_coords(cities_selection, coords)\n",
    "\n",
    "    elif unit_circle:\n",
    "        coords_unit_circle = {\n",
    "    'Paris': (1, 0),\n",
    "    'Berlin': (np.cos(2*np.pi/10), np.sin(2*np.pi/10)),\n",
    "    'London': (np.cos(4*np.pi/10), np.sin(4*np.pi/10)),\n",
    "    'Madrid': (np.cos(6*np.pi/10), np.sin(6*np.pi/10)),\n",
    "    'Rome': (np.cos(8*np.pi/10), np.sin(8*np.pi/10)),\n",
    "    'Amsterdam': (np.cos(10*np.pi/10), np.sin(10*np.pi/10)),\n",
    "    'Lisbon': (np.cos(12*np.pi/10), np.sin(12*np.pi/10)),\n",
    "    'Prague': (np.cos(14*np.pi/10), np.sin(14*np.pi/10)),\n",
    "    'Vienna': (np.cos(16*np.pi/10), np.sin(16*np.pi/10)),\n",
    "    'Stockholm': (np.cos(18*np.pi/10), np.sin(18*np.pi/10))\n",
    "}\n",
    "        cities_selection = initial_cities(n_sol, n_cities, cities) # random solutions\n",
    "        solutions_coords = construct_pop_coords(cities_selection, coords_unit_circle)\n",
    "\n",
    "    else:\n",
    "        coord_map_non_random = {\n",
    "        'Paris': (2.3522, 48.8566),\n",
    "    'Berlin': (13.4050, 52.5200),\n",
    "    'London': (-0.1278, 51.5074),\n",
    "    'Madrid': (-3.7038, 40.4168),\n",
    "    'Rome': (12.4964, 41.9028),\n",
    "    'Amsterdam': (4.9041, 52.3676),\n",
    "    'Lisbon': (-9.1393, 38.7223),\n",
    "    'Prague': (14.4378, 50.0755),\n",
    "    'Vienna': (16.3738, 48.2082),\n",
    "    'Stockholm': (18.0686, 59.3293)\n",
    "        }\n",
    "        cities_selection = initial_cities(n_sol, n_cities, cities) # random solutions\n",
    "        solutions_coords = construct_pop_coords(cities_selection, coord_map_non_random)\n",
    "\n",
    "    optimal_solution = None\n",
    "    optimal_dist = 10000\n",
    "    optimal_score = 0\n",
    "    \n",
    "    i = 0\n",
    "    \n",
    "    for iteration in range(n_iterations):\n",
    "        total_distances = calc_total_dist(solutions_coords)\n",
    "        weights = assign_weights(total_distances)\n",
    "        selected_solutions = probability_wheel(solutions_coords, weights)\n",
    "\n",
    "        crossover_results = crossover(selected_solutions, cross_rate)\n",
    "\n",
    "        mutated_results = mutate(crossover_results, mutate_rate)\n",
    "        mutated_results = regressed_safeguard(solutions_coords, mutated_results)\n",
    "\n",
    "        total_distances_after_algo = calc_total_dist(mutated_results)\n",
    "        weights_new_gen = assign_weights(total_distances_after_algo)\n",
    "\n",
    "        best_dist = total_distances_after_algo[np.argmax(weights_new_gen)]\n",
    "        best_sol = mutated_results[np.argmax(weights_new_gen)]\n",
    "        \n",
    "        i += 1\n",
    "\n",
    "        if verbose:\n",
    "            print(f\"best solution : {best_sol} | total dist : {best_dist}\")\n",
    "\n",
    "        if best_dist < optimal_dist:\n",
    "            optimal_dist = best_dist\n",
    "            optimal_solution = best_sol\n",
    "\n",
    "        solutions_coords = mutated_results\n",
    "\n",
    "    print(f\"shortest path found -> {optimal_solution}\")\n",
    "    print(f\"distance traveled - > {optimal_dist}\")\n",
    "    \n",
    "    # this part of the code is for the plot\n",
    "    city_names = list(optimal_solution.keys())\n",
    "    coordinates = list(optimal_solution.values())\n",
    "    x_coords, y_coords = zip(*coordinates)\n",
    "\n",
    "    sns.set(style='whitegrid')\n",
    "    plt.figure(figsize=(8, 8))\n",
    "    sns.scatterplot(x=x_coords, y=y_coords, s=100)\n",
    "    plt.title('Path of the Optimal Solution')\n",
    "    plt.xlabel('X Coordinate')\n",
    "    plt.ylabel('Y Coordinate')\n",
    "\n",
    "    # city name and order in solution\n",
    "    for i, city in enumerate(city_names):\n",
    "        plt.text(x_coords[i], y_coords[i], f\"{city}\\n({i+1})\", fontsize=10, ha='center', va='bottom')\n",
    "\n",
    "    # arrows and i -> j in solution\n",
    "    # this part is chatGPT\n",
    "    for i in range(len(city_names)):\n",
    "        start = coordinates[i]\n",
    "        end = coordinates[(i + 1) % len(city_names)]  # close the loop\n",
    "        plt.arrow(start[0], start[1], end[0] - start[0], end[1] - start[1],\n",
    "                head_width=0.05, head_length=0.1, fc='red', ec='red', length_includes_head=True)\n",
    "        plt.text((start[0] + end[0]) / 2, (start[1] + end[1]) / 2, f\"{i+1} -> {i+2 if i+1<len(city_names) else 1}\", fontsize=8,\n",
    "                ha='center', va='center', color='blue')\n",
    "\n",
    "    # fix aspect ratio\n",
    "    plt.gca().set_aspect('equal', adjustable='box')\n",
    "\n",
    "    plt.show()\n",
    "\n",
    "genetic_algorithm(cities = cities, max_distance = 20, n_sol = 100, n_cities = 10, n_iterations = 1000, cross_rate = 0.4, mutate_rate = 0.2, verbose = False, unit_circle = True)"
   ]
  }
 ],
 "metadata": {
  "kernelspec": {
   "display_name": "datasci",
   "language": "python",
   "name": "python3"
  },
  "language_info": {
   "codemirror_mode": {
    "name": "ipython",
    "version": 3
   },
   "file_extension": ".py",
   "mimetype": "text/x-python",
   "name": "python",
   "nbconvert_exporter": "python",
   "pygments_lexer": "ipython3",
   "version": "3.10.13"
  }
 },
 "nbformat": 4,
 "nbformat_minor": 2
}
